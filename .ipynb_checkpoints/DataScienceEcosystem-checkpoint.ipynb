{
 "cells": [
  {
   "cell_type": "markdown",
   "id": "096f0276",
   "metadata": {},
   "source": [
    "# Data Science Tools and Ecosystem"
   ]
  },
  {
   "cell_type": "markdown",
   "id": "e0684ce7",
   "metadata": {},
   "source": [
    "In this notebook, Data Science Tools and Ecosystem and sunnarized."
   ]
  },
  {
   "cell_type": "markdown",
   "id": "6d9c86fc",
   "metadata": {},
   "source": [
    "**Objectives**\n",
    "- List three languages used in data science.\n",
    "- List three libraries used in data science.\n",
    "- Use markdown and comments on a notebook. \n",
    "- Evaluate simple mathatical operations>\n",
    "## Author\n",
    "Craig Murray"
   ]
  },
  {
   "cell_type": "markdown",
   "id": "b6182236",
   "metadata": {},
   "source": [
    "Some of the languages use in data science and machine learning include.\n",
    "1. Python\n",
    "2. R\n",
    "3. Scala"
   ]
  },
  {
   "cell_type": "markdown",
   "id": "b0716578",
   "metadata": {},
   "source": [
    "Some of the commonly used libraries by Data Scientists include: \n",
    "1. Numpy\n",
    "2. Pandas\n",
    "3. Scikit Learn"
   ]
  },
  {
   "cell_type": "markdown",
   "id": "d8dc11e9",
   "metadata": {},
   "source": [
    "| Data Sciene Tools |\n",
    "|-------------------|\n",
    "| Anaconda          |\n",
    "| VS Code           |\n",
    "| Google Colab      |"
   ]
  },
  {
   "cell_type": "markdown",
   "id": "74416f86",
   "metadata": {},
   "source": [
    "### Below are a few examples of evaluating arithmatic expressions in Python"
   ]
  },
  {
   "cell_type": "code",
   "execution_count": 2,
   "id": "5fb13027",
   "metadata": {},
   "outputs": [
    {
     "data": {
      "text/plain": [
       "17"
      ]
     },
     "execution_count": 2,
     "metadata": {},
     "output_type": "execute_result"
    }
   ],
   "source": [
    "# This is a simple arithmatic expression to multiply and then add integers.\n",
    "(3*4)+5"
   ]
  },
  {
   "cell_type": "code",
   "execution_count": 3,
   "id": "7ee8f436",
   "metadata": {},
   "outputs": [
    {
     "data": {
      "text/plain": [
       "3.3333333333333335"
      ]
     },
     "execution_count": 3,
     "metadata": {},
     "output_type": "execute_result"
    }
   ],
   "source": [
    "# This will convert 200 minutes into hours\n",
    "200 / 60"
   ]
  },
  {
   "cell_type": "code",
   "execution_count": null,
   "id": "f639ea60",
   "metadata": {},
   "outputs": [],
   "source": []
  }
 ],
 "metadata": {
  "kernelspec": {
   "display_name": "Python 3 (ipykernel)",
   "language": "python",
   "name": "python3"
  },
  "language_info": {
   "codemirror_mode": {
    "name": "ipython",
    "version": 3
   },
   "file_extension": ".py",
   "mimetype": "text/x-python",
   "name": "python",
   "nbconvert_exporter": "python",
   "pygments_lexer": "ipython3",
   "version": "3.11.3"
  }
 },
 "nbformat": 4,
 "nbformat_minor": 5
}
